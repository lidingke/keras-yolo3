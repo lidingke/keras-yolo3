{
 "cells": [
  {
   "cell_type": "markdown",
   "metadata": {},
   "source": [
    "#### 预处理文件夹：\n",
    "预处理文件夹需要包含两个VOC格式的图片目录和标注目录，分别叫JPEGImages和Annotations。"
   ]
  },
  {
   "cell_type": "code",
   "execution_count": 1,
   "metadata": {
    "collapsed": true
   },
   "outputs": [],
   "source": [
    "ROOT_FILE='/home/lidingke/DATA/unit_by_yolo'"
   ]
  },
  {
   "cell_type": "markdown",
   "metadata": {},
   "source": [
    "#### 删除解析不成功的Annotation。"
   ]
  },
  {
   "cell_type": "code",
   "execution_count": 27,
   "metadata": {},
   "outputs": [
    {
     "name": "stdout",
     "output_type": "stream",
     "text": [
      "[Errno 2] No such file or directory: '/home/lidingke/DATA/unit_by_yolo/Annotations/_bak.xml'\n",
      "/home/lidingke/DATA/unit_by_yolo/Annotations/_bak.xml\n",
      "/home/lidingke/DATA/unit_by_yolo/JPEGImages/_bak.jpg\n",
      "Done\n"
     ]
    }
   ],
   "source": [
    "import  os\n",
    "import xml.etree.cElementTree as ET\n",
    "\n",
    "ERROR_XML_ROOT = ROOT_FILE\n",
    "for i in os.listdir(ERROR_XML_ROOT+'/JPEGImages'):\n",
    "    path = ERROR_XML_ROOT+'/Annotations/'+i.split('.')[0]+'.xml'\n",
    "    jpg = ERROR_XML_ROOT+'/JPEGImages/'+i.split('.')[0]+'.jpg'\n",
    "    # print(path)\n",
    "    try:\n",
    "        tree = ET.parse(path)\n",
    "        root = tree.getroot() \n",
    "        for obj_item in root.findall('object'): \n",
    "            obj_name = obj_item.find('name').text\n",
    "            if obj_name == 'dontcare':\n",
    "                print('dontcare')\n",
    "                print(path)\n",
    "                os.system('rm '+path)\n",
    "                print(jpg)\n",
    "                os.system('rm '+jpg)\n",
    "    except Exception as e:\n",
    "        print(e)\n",
    "        print(path)\n",
    "        print(jpg)\n",
    "        os.system('rm '+path)\n",
    "        os.system('rm '+jpg)\n",
    "print('Done')"
   ]
  },
  {
   "cell_type": "markdown",
   "metadata": {},
   "source": [
    "#### 删除无法读取的img。"
   ]
  },
  {
   "cell_type": "code",
   "execution_count": 30,
   "metadata": {},
   "outputs": [
    {
     "name": "stdout",
     "output_type": "stream",
     "text": [
      "/home/lidingke/DATA/unit_by_yolo/Annotations/_bak.xml\n",
      "/home/lidingke/DATA/unit_by_yolo/JPEGImages/_bak.jpg\n",
      "Done\n"
     ]
    }
   ],
   "source": [
    "import os \n",
    "import cv2\n",
    "import numpy as np\n",
    "\n",
    "JPG_FILE = ROOT_FILE\n",
    "for i in os.listdir(JPG_FILE+'/JPEGImages/'):\n",
    "    jpg = JPG_FILE+'/JPEGImages/'+i.split('.')[0]+'.jpg'\n",
    "    im = cv2.imread(jpg)\n",
    "    if not isinstance(im,np.ndarray):\n",
    "        xml = JPG_FILE+'/Annotations/'+i.split('.')[0]+'.xml'\n",
    "        print(xml)\n",
    "        print(jpg)\n",
    "        os.system('rm '+xml)\n",
    "        os.system('rm' +jpg)\n",
    "print('Done')"
   ]
  },
  {
   "cell_type": "markdown",
   "metadata": {},
   "source": [
    "#### 删除JPEGImages中不存在的Annotations"
   ]
  },
  {
   "cell_type": "code",
   "execution_count": 31,
   "metadata": {
    "collapsed": true
   },
   "outputs": [],
   "source": [
    "def double_delete(root_file,names):\n",
    "    for n in names:\n",
    "        ann_file = root_file+'/Annotations/'\n",
    "        jpg_flie = root_file+'/JPEGImages/'\n",
    "        xml = ann_file+n+'.xml'\n",
    "        jpg = jpg_flie+n+'.jpg'\n",
    "        cmd = 'rm ' + xml\n",
    "        print(cmd)\n",
    "        os.system(cmd)\n",
    "        cmd = 'rm ' + jpg\n",
    "        print(cmd)\n",
    "        os.system(cmd)\n",
    "\n",
    "root_file = ROOT_FILE\n",
    "ann_file = root_file+'/Annotations/'\n",
    "jpg_flie = root_file+'/JPEGImages/'\n",
    "anns = [a.split('.')[0] for a in os.listdir(ann_file) if a.split('.')[-1]=='xml']\n",
    "jpgs = [a.split('.')[0] for a in os.listdir(jpg_flie) if a.split('.')[-1]=='jpg']\n",
    "diffs = set(anns)-set(jpgs)\n",
    "double_delete(root_file,diffs)"
   ]
  },
  {
   "cell_type": "markdown",
   "metadata": {},
   "source": [
    "#### 处理后两个文件夹文件数量应该一致"
   ]
  },
  {
   "cell_type": "code",
   "execution_count": 28,
   "metadata": {},
   "outputs": [
    {
     "name": "stdout",
     "output_type": "stream",
     "text": [
      "   7055   63488  372422\r\n"
     ]
    }
   ],
   "source": [
    "!ls -l /home/lidingke/DATA/unit_by_yolo/Annotations/ | wc"
   ]
  },
  {
   "cell_type": "code",
   "execution_count": 29,
   "metadata": {},
   "outputs": [
    {
     "name": "stdout",
     "output_type": "stream",
     "text": [
      "   7056   63497  386579\r\n"
     ]
    }
   ],
   "source": [
    "!ls -l /home/lidingke/DATA/unit_by_yolo/JPEGImages/ | wc"
   ]
  },
  {
   "cell_type": "markdown",
   "metadata": {},
   "source": [
    "#### 删除过期的roidb"
   ]
  },
  {
   "cell_type": "code",
   "execution_count": 19,
   "metadata": {
    "collapsed": true
   },
   "outputs": [],
   "source": [
    "!rm /home/lidingke/MyProject/ctpn_py3/data/cache/voc_2007_trainval_gt_roidb.pkl"
   ]
  },
  {
   "cell_type": "code",
   "execution_count": null,
   "metadata": {
    "collapsed": true
   },
   "outputs": [],
   "source": [
    "#查看VOCdevkit2007的软连接是否正确，代码里是handcode读取该软连接"
   ]
  },
  {
   "cell_type": "code",
   "execution_count": 18,
   "metadata": {},
   "outputs": [
    {
     "name": "stdout",
     "output_type": "stream",
     "text": [
      "lrwxrwxrwx 1 lidingke wistron 37 Jun 19 14:50 /home/lidingke/MyProject/ctpn_py3/data/VOCdevkit2007 -> /home/lidingke/DATA/HCCR_0619/TEXTVOC\r\n"
     ]
    }
   ],
   "source": [
    "!ls -l /home/lidingke/MyProject/ctpn_py3/data/VOCdevkit2007"
   ]
  },
  {
   "cell_type": "markdown",
   "metadata": {
    "collapsed": true
   },
   "source": [
    "#### Next step：\n",
    "\n",
    "去prepare_datas下生成新的TEXTVOC"
   ]
  },
  {
   "cell_type": "code",
   "execution_count": 15,
   "metadata": {
    "collapsed": true
   },
   "outputs": [],
   "source": [
    "!rm /home/lidingke/MyProject/ctpn_py3/data/VOCdevkit2007\n",
    "!ln -s /home/lidingke/DATA/HCCR_0619/TEXTVOC /home/lidingke/MyProject/ctpn_py3/data/VOCdevkit2007 "
   ]
  },
  {
   "cell_type": "code",
   "execution_count": null,
   "metadata": {
    "collapsed": true
   },
   "outputs": [],
   "source": []
  }
 ],
 "metadata": {
  "kernelspec": {
   "display_name": "tf18p36",
   "language": "python",
   "name": "tf18p36"
  },
  "language_info": {
   "codemirror_mode": {
    "name": "ipython",
    "version": 3
   },
   "file_extension": ".py",
   "mimetype": "text/x-python",
   "name": "python",
   "nbconvert_exporter": "python",
   "pygments_lexer": "ipython3",
   "version": "3.6.0"
  }
 },
 "nbformat": 4,
 "nbformat_minor": 2
}
